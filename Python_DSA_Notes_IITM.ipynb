{
 "cells": [
  {
   "cell_type": "markdown",
   "metadata": {
    "id": "BQNAIxHEiruG"
   },
   "source": [
    "# Week 1 (Python Review)"
   ]
  },
  {
   "cell_type": "markdown",
   "metadata": {
    "id": "mfmUQX6Rp04b"
   },
   "source": [
    "Julia + Python + R\n",
    "\n",
    "All 3 can be used for Jupyter Notebook\n",
    "\n",
    "Scikit-Learn and Tensorflow available pre loaded on Colab"
   ]
  },
  {
   "cell_type": "markdown",
   "metadata": {
    "id": "_AgoQYKRqy8-"
   },
   "source": [
    "## Markdown rules\n",
    "\n",
    "using a '#' will result in a section heading\n",
    "using a \"##' will give you a Heading 2\n",
    "\n",
    "using a '-' will result in a list item\n",
    "- list item 1\n",
    "- list item 2\n",
    "\n",
    "using a '*' will also result in an non-numbered list item\n",
    "* text uses markdown format"
   ]
  },
  {
   "cell_type": "markdown",
   "metadata": {
    "id": "TgJIkSPbs8ZM"
   },
   "source": [
    "## Python Recap 2\n",
    "\n",
    "Greatest Common Divisor in 2 ways:\n",
    "1. storing all the common factors\n",
    "2. simply remembering the last valid factor"
   ]
  },
  {
   "cell_type": "code",
   "execution_count": 1,
   "metadata": {
    "id": "a1nPI8cds95V"
   },
   "outputs": [],
   "source": [
    "def gcd(m,n):\n",
    "  cf = []\n",
    "  for i in range(1, min(m,n)+1):\n",
    "    if (m%i == 0) and (n%i == 0):\n",
    "      cf.append(i)\n",
    "  return cf[-1]"
   ]
  },
  {
   "cell_type": "code",
   "execution_count": 2,
   "metadata": {
    "colab": {
     "base_uri": "https://localhost:8080/"
    },
    "id": "sE_9XtvgtrHw",
    "outputId": "0277fb2e-5914-4be7-dbe3-44a13f0bbc01"
   },
   "outputs": [
    {
     "data": {
      "text/plain": [
       "8"
      ]
     },
     "execution_count": 2,
     "metadata": {},
     "output_type": "execute_result"
    }
   ],
   "source": [
    "gcd(8,16)"
   ]
  },
  {
   "cell_type": "code",
   "execution_count": 3,
   "metadata": {
    "id": "xxpRAIdYtxfO"
   },
   "outputs": [],
   "source": [
    "def gcd(m,n):\n",
    "  for i in range(1, min(m,n)+1):\n",
    "    if (m%i == 0) and (n%i == 0):\n",
    "      mrcf = i\n",
    "  return mrcf"
   ]
  },
  {
   "cell_type": "code",
   "execution_count": 4,
   "metadata": {
    "colab": {
     "base_uri": "https://localhost:8080/"
    },
    "id": "d9IcWj0VuJdO",
    "outputId": "16260ae5-2150-46b6-dc3a-91a9b6ece626"
   },
   "outputs": [
    {
     "data": {
      "text/plain": [
       "8"
      ]
     },
     "execution_count": 4,
     "metadata": {},
     "output_type": "execute_result"
    }
   ],
   "source": [
    "gcd(8,16)"
   ]
  },
  {
   "cell_type": "code",
   "execution_count": 5,
   "metadata": {
    "colab": {
     "base_uri": "https://localhost:8080/"
    },
    "id": "hYWxIpt1uLHk",
    "outputId": "ba5cb98d-a215-4d93-acbd-4868dbae50bd"
   },
   "outputs": [
    {
     "data": {
      "text/plain": [
       "1"
      ]
     },
     "execution_count": 5,
     "metadata": {},
     "output_type": "execute_result"
    }
   ],
   "source": [
    "gcd(25,18)"
   ]
  },
  {
   "cell_type": "markdown",
   "metadata": {
    "id": "R8J061uUuV2Q"
   },
   "source": [
    "Efficiency of both are same, they take time of m and n, i.e. like comparing each number with the ranger of numbers."
   ]
  },
  {
   "cell_type": "markdown",
   "metadata": {
    "id": "jbxTY3_Yuugw"
   },
   "source": [
    "## Python Recap - 2\n",
    "Checking the primality of a number\n",
    "\n",
    "2 ways:\n",
    "\n",
    "1. Checking the primes in a given maximum number:\n",
    "  \n",
    "  Use a for loop to do that\n",
    "\n",
    "2. Checking what the first n primes are\n",
    "\n",
    "  Use a while loop for that"
   ]
  },
  {
   "cell_type": "code",
   "execution_count": 6,
   "metadata": {
    "id": "YHRgJGb6utHm"
   },
   "outputs": [],
   "source": [
    "#factors of a given number\n",
    "def factors(n):\n",
    "  fl =[]\n",
    "  for i in range(1,n+1):\n",
    "    if n%i == 0:\n",
    "      fl.append(i)\n",
    "  return fl"
   ]
  },
  {
   "cell_type": "code",
   "execution_count": 7,
   "metadata": {
    "colab": {
     "base_uri": "https://localhost:8080/"
    },
    "id": "iGTvHsGCyJ6O",
    "outputId": "2f7baf65-ebcb-4245-d072-61d3f5635018"
   },
   "outputs": [
    {
     "data": {
      "text/plain": [
       "[1, 2, 4]"
      ]
     },
     "execution_count": 7,
     "metadata": {},
     "output_type": "execute_result"
    }
   ],
   "source": [
    "factors(4)"
   ]
  },
  {
   "cell_type": "code",
   "execution_count": 8,
   "metadata": {
    "id": "hyg_6Qm2x60J"
   },
   "outputs": [],
   "source": [
    "#Check Primality of a given number\n",
    "#Google Suggested Version\n",
    "def isprime(n):\n",
    "  if len(factors(n)) == 2:\n",
    "    return True\n",
    "  else:\n",
    "    return False"
   ]
  },
  {
   "cell_type": "code",
   "execution_count": 9,
   "metadata": {
    "colab": {
     "base_uri": "https://localhost:8080/"
    },
    "id": "fPdGAeiHyL49",
    "outputId": "ce38a8aa-8b24-4f61-9205-f5b807aa3b62"
   },
   "outputs": [
    {
     "data": {
      "text/plain": [
       "False"
      ]
     },
     "execution_count": 9,
     "metadata": {},
     "output_type": "execute_result"
    }
   ],
   "source": [
    "isprime(4)"
   ]
  },
  {
   "cell_type": "code",
   "execution_count": 10,
   "metadata": {
    "id": "XXxUgKo3y6_d"
   },
   "outputs": [],
   "source": [
    "#check primality of numbers from 1 to n given n\n",
    "def primeupto(n):\n",
    "  pl = []\n",
    "  for i in range(1,n+1):\n",
    "    if isprime(i):\n",
    "      pl.append(i)\n",
    "  return pl"
   ]
  },
  {
   "cell_type": "code",
   "execution_count": 11,
   "metadata": {
    "colab": {
     "base_uri": "https://localhost:8080/"
    },
    "id": "Z5pnCNc4zAxG",
    "outputId": "c623dec9-7024-4a88-a6b1-e13cb81ce786"
   },
   "outputs": [
    {
     "data": {
      "text/plain": [
       "[2, 3, 5, 7]"
      ]
     },
     "execution_count": 11,
     "metadata": {},
     "output_type": "execute_result"
    }
   ],
   "source": [
    "primeupto(10)"
   ]
  },
  {
   "cell_type": "code",
   "execution_count": 12,
   "metadata": {
    "id": "xk67fDhIxpa7"
   },
   "outputs": [],
   "source": [
    "#First n prime numbers\n",
    "#Google Suggested Again\n",
    "def nprimes(n):\n",
    "  pl = []\n",
    "  i = 2\n",
    "  while len(pl) < n:\n",
    "    if isprime(i):\n",
    "      pl.append(i)\n",
    "    i += 1\n",
    "  return pl"
   ]
  },
  {
   "cell_type": "code",
   "execution_count": 13,
   "metadata": {
    "colab": {
     "base_uri": "https://localhost:8080/"
    },
    "id": "NF_H4sAWxtcZ",
    "outputId": "4103f8a0-35a7-45c2-8a7c-342fd5c311f9"
   },
   "outputs": [
    {
     "data": {
      "text/plain": [
       "[2, 3, 5, 7]"
      ]
     },
     "execution_count": 13,
     "metadata": {},
     "output_type": "execute_result"
    }
   ],
   "source": [
    "nprimes(4)"
   ]
  },
  {
   "cell_type": "markdown",
   "metadata": {
    "id": "UIOPJXq0xr39"
   },
   "source": [
    "## Exception Handling\n",
    "\n",
    "Code can generate many types of errors\n",
    "* division by 0\n",
    "* file not found\n",
    "* disk full while writing\n",
    "* list out of bounds\n",
    "\n",
    "Syntax error not handled as an exception"
   ]
  },
  {
   "cell_type": "code",
   "execution_count": 15,
   "metadata": {
    "id": "DNNmAhfDzHl8"
   },
   "outputs": [],
   "source": [
    "#code goes like this\n",
    "try:\n",
    "  #enter code here that can go wrong\n",
    "  x,y = 2,3\n",
    "  z = x+y\n",
    "except IndexError:\n",
    "  #only for IndexError\n",
    "  z = 1\n",
    "except (NameError, KeyError):\n",
    "  #For multiple exception types same code\n",
    "  z = 1\n",
    "except:\n",
    "  #For any and all other errors\n",
    "  z = 1\n",
    "else:\n",
    "  #Execute this if code does execute\n",
    "  z = 1\n",
    "finally:\n",
    "  #Always execute this\n",
    "  z = 1"
   ]
  },
  {
   "cell_type": "markdown",
   "metadata": {},
   "source": [
    "collection scores in dictionaries"
   ]
  },
  {
   "cell_type": "code",
   "execution_count": 16,
   "metadata": {},
   "outputs": [],
   "source": [
    "#Create Dictionary\n",
    "scores = {\"Shefali\": [3,22],\n",
    "          \"Harmanpreet\": [200,3]}"
   ]
  },
  {
   "cell_type": "code",
   "execution_count": 18,
   "metadata": {},
   "outputs": [],
   "source": [
    "#traditional approach\n",
    "if 'b' in scores.keys():\n",
    "    scores['b'].append(5)\n",
    "else:\n",
    "    scores['b'] = [5]"
   ]
  },
  {
   "cell_type": "code",
   "execution_count": 19,
   "metadata": {},
   "outputs": [],
   "source": [
    "#using exceptions\n",
    "try:\n",
    "    scores['b'].append(5)\n",
    "except KeyError:\n",
    "    scores['b'] = [5]"
   ]
  },
  {
   "cell_type": "code",
   "execution_count": 20,
   "metadata": {},
   "outputs": [
    {
     "data": {
      "text/plain": [
       "{'Shefali': [3, 22], 'Harmanpreet': [200, 3], 'b': [5, 5]}"
      ]
     },
     "execution_count": 20,
     "metadata": {},
     "output_type": "execute_result"
    }
   ],
   "source": [
    "scores"
   ]
  },
  {
   "cell_type": "markdown",
   "metadata": {},
   "source": [
    "## Python Recap - 3\n",
    "\n",
    "both versions of GCD take time proportional to min(m,n)\n",
    "is there a way to do it better?\n",
    "\n",
    "suppose d divides m and n\n",
    "* m = ad, n = bd\n",
    "* m - n = (a-b)d\n",
    "* d also divides (m - n)\n",
    "\n",
    "So improving upon it would be to make recursive function\n",
    "* Base case: n divides m and the answer is n\n",
    "* otherwise reduce gcd(m,n) to gcd(n, m-n)"
   ]
  },
  {
   "cell_type": "code",
   "execution_count": 21,
   "metadata": {},
   "outputs": [],
   "source": [
    "def gcd(m,n):\n",
    "    (a,b) = (max(m,n), min(m,n))\n",
    "    if a%b == 0:\n",
    "        return(b)\n",
    "    else:\n",
    "        return(gcd(b, a-b))"
   ]
  },
  {
   "cell_type": "code",
   "execution_count": 22,
   "metadata": {},
   "outputs": [
    {
     "data": {
      "text/plain": [
       "4"
      ]
     },
     "execution_count": 22,
     "metadata": {},
     "output_type": "execute_result"
    }
   ],
   "source": [
    "gcd(12,16)"
   ]
  },
  {
   "cell_type": "markdown",
   "metadata": {},
   "source": [
    "This still somehow apparently takes time proportional to max(M,n)\n",
    "for example take gcd(2, 9999)\n",
    "it has to -2 5000 times before arriving at 1\n",
    "\n",
    "how to do better?\n",
    "* Suppose n does not divide M\n",
    "* then M = qn + r\n",
    "    * q -> quotient, r -> remainder\n",
    "* ad = qbd + r\n",
    "    * r must be form of cd\n",
    "\n",
    "### Euclid's Algorithm\n",
    "* If n divides m, gcd(m,n) = n\n",
    "* Otherwise, compute gcd(n, m mod n)"
   ]
  },
  {
   "cell_type": "code",
   "execution_count": 24,
   "metadata": {},
   "outputs": [],
   "source": [
    "def gcd(m,n):\n",
    "    (a,b) = (max(m,n), min(m,n))\n",
    "    if a%b == 0:\n",
    "        return(b)\n",
    "    else:\n",
    "        return(b, a%b)"
   ]
  },
  {
   "cell_type": "markdown",
   "metadata": {},
   "source": [
    "This times time proportional to number of digits in max(m,n)\n",
    "\n",
    "One of the first non trivial algorithm"
   ]
  },
  {
   "cell_type": "markdown",
   "metadata": {},
   "source": [
    "## Classes and Objects\n",
    "* Abstract Datatype\n",
    "    * Stores some information\n",
    "    * Designated function to manipulate the information\n",
    "    * For instance, stack: last-in, first-out, push(), pop()\n",
    "* Separate private implementation fro public specification\n",
    "* Class:\n",
    "    * Template for a Data type\n",
    "    * how data is stored\n",
    "    * how public functions manipulate data "
   ]
  },
  {
   "cell_type": "code",
   "execution_count": 54,
   "metadata": {},
   "outputs": [],
   "source": [
    "# 2-D Points in Cartesian Co-ordinates\n",
    "import math\n",
    "class Point:\n",
    "    def __init__(self, a=0,b=0):\n",
    "        self.x = a\n",
    "        self.y = b\n",
    "    def translate(self, delx, dely):\n",
    "        self.x += delx\n",
    "        self.y += dely\n",
    "    def odistance(self):\n",
    "        d =  math.sqrt(self.x*self.x + self.y*self.y)\n",
    "        return d\n",
    "    def __add__(self, p):\n",
    "        return(Point(self.x + p.x, self.y + p.y))\n",
    "    def __str__(self):\n",
    "        return('('+str(self.x)+','+str(self.y)+')')"
   ]
  },
  {
   "cell_type": "markdown",
   "metadata": {},
   "source": [
    "### important codes\n",
    "* __ init__() - constuctor\n",
    "\n",
    "* __ str__() - convert object to string\n",
    "    *  invoked by print()\n",
    "\n",
    "* __ add__() invoked by +\n",
    "\n",
    "* __mult __ invoked by *\n",
    "\n",
    "* __lt __ invoked by <\n",
    "\n",
    "* __ge __ invoked by >="
   ]
  },
  {
   "cell_type": "code",
   "execution_count": 55,
   "metadata": {},
   "outputs": [],
   "source": [
    "p = Point(3,4)\n",
    "q = Point(7,10)"
   ]
  },
  {
   "cell_type": "code",
   "execution_count": 56,
   "metadata": {},
   "outputs": [
    {
     "data": {
      "text/plain": [
       "5.0"
      ]
     },
     "execution_count": 56,
     "metadata": {},
     "output_type": "execute_result"
    }
   ],
   "source": [
    "p.odistance()"
   ]
  },
  {
   "cell_type": "code",
   "execution_count": 57,
   "metadata": {},
   "outputs": [
    {
     "data": {
      "text/plain": [
       "12.206555615733702"
      ]
     },
     "execution_count": 57,
     "metadata": {},
     "output_type": "execute_result"
    }
   ],
   "source": [
    "q.odistance()"
   ]
  },
  {
   "cell_type": "code",
   "execution_count": 58,
   "metadata": {},
   "outputs": [
    {
     "name": "stdout",
     "output_type": "stream",
     "text": [
      "(10,14)\n"
     ]
    }
   ],
   "source": [
    "print(p+q)"
   ]
  },
  {
   "cell_type": "code",
   "execution_count": 59,
   "metadata": {},
   "outputs": [],
   "source": [
    "# 2-D Points in Polar Co-ordinates\n",
    "class Point:\n",
    "    def __init__(self, a=0,b=0):\n",
    "        self.r = math.sqrt(a*a + b*b)\n",
    "        if a == 0:\n",
    "            self.theta = math.pi/2\n",
    "        else:\n",
    "            self.theta = math.atan(b/a)\n",
    "    def odistance(self):\n",
    "        return self.r\n",
    "    def __add__(self, p):\n",
    "        return(Point(self.r + p.r, self.theta + p.theta))\n",
    "    def __str__(self):\n",
    "        return('('+str(self.r)+','+str(self.theta)+')')\n",
    "#some more nonsense of translating point"
   ]
  },
  {
   "cell_type": "code",
   "execution_count": 60,
   "metadata": {},
   "outputs": [],
   "source": [
    "p = Point(3,4)\n",
    "q = Point(7,10)"
   ]
  },
  {
   "cell_type": "code",
   "execution_count": 61,
   "metadata": {},
   "outputs": [
    {
     "name": "stdout",
     "output_type": "stream",
     "text": [
      "(17.309757508164093,0.1092519876585497)\n"
     ]
    }
   ],
   "source": [
    "print(p+q)"
   ]
  },
  {
   "cell_type": "markdown",
   "metadata": {},
   "source": [
    "## Timing Code\n",
    "\n",
    "Python has a library time with various unseful functions\n",
    "\n",
    "perf_time() is a performance counter\n",
    "it just gives up absolute timing\n",
    "\n",
    "to make sense of it, you should start timer before code, and end, and then remove the difference"
   ]
  },
  {
   "cell_type": "code",
   "execution_count": 62,
   "metadata": {},
   "outputs": [
    {
     "data": {
      "text/plain": [
       "3.599992487579584e-05"
      ]
     },
     "execution_count": 62,
     "metadata": {},
     "output_type": "execute_result"
    }
   ],
   "source": [
    "import time\n",
    "\n",
    "start = time.perf_counter()\n",
    "\n",
    "#execute code\n",
    "\n",
    "end = time.perf_counter()\n",
    "\n",
    "elapsed = end - start\n",
    "elapsed"
   ]
  },
  {
   "cell_type": "code",
   "execution_count": 63,
   "metadata": {},
   "outputs": [],
   "source": [
    "class Timer:\n",
    "    def __init__(self):\n",
    "        self._start_time = 0\n",
    "        self._elapsed_time = 0\n",
    "\n",
    "    def start(self):\n",
    "        self._start_time = time.perf_counter()\n",
    "\n",
    "    def stop(self):\n",
    "        self._elapsed_time = time.perf_counter() - self._start_time\n",
    "\n",
    "    def elapsed(self):\n",
    "        return(self._elapsed_time)"
   ]
  },
  {
   "cell_type": "markdown",
   "metadata": {},
   "source": [
    "* create a time class\n",
    "* Two internal values\n",
    "    * _start_time\n",
    "    * _elapsed_time\n",
    "* start starts the times\n",
    "* stop records the elapsed time\n",
    "* Python executes 10e7 operations per second\n",
    "    * considerably slower than C/C++ which is around 10e8 or 9"
   ]
  },
  {
   "cell_type": "markdown",
   "metadata": {},
   "source": []
  }
 ],
 "metadata": {
  "colab": {
   "provenance": [],
   "toc_visible": true
  },
  "kernelspec": {
   "display_name": "Python 3 (ipykernel)",
   "language": "python",
   "name": "python3"
  },
  "language_info": {
   "codemirror_mode": {
    "name": "ipython",
    "version": 3
   },
   "file_extension": ".py",
   "mimetype": "text/x-python",
   "name": "python",
   "nbconvert_exporter": "python",
   "pygments_lexer": "ipython3",
   "version": "3.13.1"
  }
 },
 "nbformat": 4,
 "nbformat_minor": 4
}
