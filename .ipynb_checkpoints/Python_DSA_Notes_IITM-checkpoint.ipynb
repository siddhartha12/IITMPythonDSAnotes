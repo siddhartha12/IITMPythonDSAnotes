{
  "nbformat": 4,
  "nbformat_minor": 0,
  "metadata": {
    "colab": {
      "provenance": [],
      "toc_visible": true
    },
    "kernelspec": {
      "name": "python3",
      "display_name": "Python 3"
    },
    "language_info": {
      "name": "python"
    }
  },
  "cells": [
    {
      "cell_type": "markdown",
      "source": [
        "# Week 1 (Python Review)"
      ],
      "metadata": {
        "id": "BQNAIxHEiruG"
      }
    },
    {
      "cell_type": "markdown",
      "source": [
        "Julia + Python + R\n",
        "\n",
        "All 3 can be used for Jupyter Notebook\n",
        "\n",
        "Scikit-Learn and Tensorflow available pre loaded on Colab"
      ],
      "metadata": {
        "id": "mfmUQX6Rp04b"
      }
    },
    {
      "cell_type": "markdown",
      "source": [
        "##Markdown rules\n",
        "\n",
        "using a '#' will result in a section heading\n",
        "using a \"##' will give you a Heading 2\n",
        "\n",
        "using a '-' will result in a list item\n",
        "- list item 1\n",
        "- list item 2\n",
        "\n",
        "using a '*' will also result in an non-numbered list item\n",
        "* text uses markdown format"
      ],
      "metadata": {
        "id": "_AgoQYKRqy8-"
      }
    },
    {
      "cell_type": "markdown",
      "source": [
        "##Python Recap 1\n",
        "\n",
        "Greatest Common Divisor in 2 ways:\n",
        "1. storing all the common factors\n",
        "2. simply remembering the last valid factor"
      ],
      "metadata": {
        "id": "TgJIkSPbs8ZM"
      }
    },
    {
      "cell_type": "code",
      "source": [
        "def gcd(m,n):\n",
        "  cf = []\n",
        "  for i in range(1, min(m,n)+1):\n",
        "    if (m%i == 0) and (n%i == 0):\n",
        "      cf.append(i)\n",
        "  return cf[-1]"
      ],
      "metadata": {
        "id": "a1nPI8cds95V"
      },
      "execution_count": null,
      "outputs": []
    },
    {
      "cell_type": "code",
      "source": [
        "gcd(8,16)"
      ],
      "metadata": {
        "colab": {
          "base_uri": "https://localhost:8080/"
        },
        "id": "sE_9XtvgtrHw",
        "outputId": "0277fb2e-5914-4be7-dbe3-44a13f0bbc01"
      },
      "execution_count": null,
      "outputs": [
        {
          "output_type": "execute_result",
          "data": {
            "text/plain": [
              "8"
            ]
          },
          "metadata": {},
          "execution_count": 3
        }
      ]
    },
    {
      "cell_type": "code",
      "source": [
        "def gcd(m,n):\n",
        "  for i in range(1, min(m,n)+1):\n",
        "    if (m%i == 0) and (n%i == 0):\n",
        "      mrcf = i\n",
        "  return mrcf"
      ],
      "metadata": {
        "id": "xxpRAIdYtxfO"
      },
      "execution_count": null,
      "outputs": []
    },
    {
      "cell_type": "code",
      "source": [
        "gcd(8,16)"
      ],
      "metadata": {
        "colab": {
          "base_uri": "https://localhost:8080/"
        },
        "id": "d9IcWj0VuJdO",
        "outputId": "16260ae5-2150-46b6-dc3a-91a9b6ece626"
      },
      "execution_count": null,
      "outputs": [
        {
          "output_type": "execute_result",
          "data": {
            "text/plain": [
              "8"
            ]
          },
          "metadata": {},
          "execution_count": 5
        }
      ]
    },
    {
      "cell_type": "code",
      "source": [
        "gcd(25,18)"
      ],
      "metadata": {
        "colab": {
          "base_uri": "https://localhost:8080/"
        },
        "id": "hYWxIpt1uLHk",
        "outputId": "ba5cb98d-a215-4d93-acbd-4868dbae50bd"
      },
      "execution_count": null,
      "outputs": [
        {
          "output_type": "execute_result",
          "data": {
            "text/plain": [
              "1"
            ]
          },
          "metadata": {},
          "execution_count": 6
        }
      ]
    },
    {
      "cell_type": "markdown",
      "source": [
        "Efficiency of both are same, they take time of m and n, i.e. like comparing each number with the ranger of numbers."
      ],
      "metadata": {
        "id": "R8J061uUuV2Q"
      }
    },
    {
      "cell_type": "markdown",
      "source": [
        "##Python Recap - 2\n",
        "Checking the primality of a number\n",
        "\n",
        "2 ways:\n",
        "\n",
        "1. Checking the primes in a given maximum number:\n",
        "  \n",
        "  Use a for loop to do that\n",
        "\n",
        "2. Checking what the first n primes are\n",
        "\n",
        "  Use a while loop for that"
      ],
      "metadata": {
        "id": "jbxTY3_Yuugw"
      }
    },
    {
      "cell_type": "code",
      "source": [
        "#factors of a given number\n",
        "def factors(n):\n",
        "  fl =[]\n",
        "  for i in range(1,n+1):\n",
        "    if n%i == 0:\n",
        "      fl.append(i)\n",
        "  return fl"
      ],
      "metadata": {
        "id": "YHRgJGb6utHm"
      },
      "execution_count": null,
      "outputs": []
    },
    {
      "cell_type": "code",
      "source": [
        "factors(4)"
      ],
      "metadata": {
        "colab": {
          "base_uri": "https://localhost:8080/"
        },
        "id": "iGTvHsGCyJ6O",
        "outputId": "2f7baf65-ebcb-4245-d072-61d3f5635018"
      },
      "execution_count": null,
      "outputs": [
        {
          "output_type": "execute_result",
          "data": {
            "text/plain": [
              "[1, 2, 4]"
            ]
          },
          "metadata": {},
          "execution_count": 19
        }
      ]
    },
    {
      "cell_type": "code",
      "source": [
        "#Check Primality of a given number\n",
        "#Google Suggested Version\n",
        "def isprime(n):\n",
        "  if len(factors(n)) == 2:\n",
        "    return True\n",
        "  else:\n",
        "    return False"
      ],
      "metadata": {
        "id": "hyg_6Qm2x60J"
      },
      "execution_count": null,
      "outputs": []
    },
    {
      "cell_type": "code",
      "source": [
        "isprime(4)"
      ],
      "metadata": {
        "colab": {
          "base_uri": "https://localhost:8080/"
        },
        "id": "fPdGAeiHyL49",
        "outputId": "ce38a8aa-8b24-4f61-9205-f5b807aa3b62"
      },
      "execution_count": null,
      "outputs": [
        {
          "output_type": "execute_result",
          "data": {
            "text/plain": [
              "False"
            ]
          },
          "metadata": {},
          "execution_count": 21
        }
      ]
    },
    {
      "cell_type": "code",
      "source": [
        "#check primality of numbers from 1 to n given n\n",
        "def primeupto(n):\n",
        "  pl = []\n",
        "  for i in range(1,n+1):\n",
        "    if isprime(i):\n",
        "      pl.append(i)\n",
        "  return pl"
      ],
      "metadata": {
        "id": "XXxUgKo3y6_d"
      },
      "execution_count": null,
      "outputs": []
    },
    {
      "cell_type": "code",
      "source": [
        "primeupto(10)"
      ],
      "metadata": {
        "colab": {
          "base_uri": "https://localhost:8080/"
        },
        "id": "Z5pnCNc4zAxG",
        "outputId": "c623dec9-7024-4a88-a6b1-e13cb81ce786"
      },
      "execution_count": null,
      "outputs": [
        {
          "output_type": "execute_result",
          "data": {
            "text/plain": [
              "[2, 3, 5, 7]"
            ]
          },
          "metadata": {},
          "execution_count": 23
        }
      ]
    },
    {
      "cell_type": "code",
      "source": [
        "#First n prime numbers\n",
        "#Google Suggested Again\n",
        "def nprimes(n):\n",
        "  pl = []\n",
        "  i = 2\n",
        "  while len(pl) < n:\n",
        "    if isprime(i):\n",
        "      pl.append(i)\n",
        "    i += 1\n",
        "  return pl"
      ],
      "metadata": {
        "id": "xk67fDhIxpa7"
      },
      "execution_count": null,
      "outputs": []
    },
    {
      "cell_type": "code",
      "source": [
        "nprimes(4)"
      ],
      "metadata": {
        "colab": {
          "base_uri": "https://localhost:8080/"
        },
        "id": "NF_H4sAWxtcZ",
        "outputId": "4103f8a0-35a7-45c2-8a7c-342fd5c311f9"
      },
      "execution_count": null,
      "outputs": [
        {
          "output_type": "execute_result",
          "data": {
            "text/plain": [
              "[2, 3, 5, 7]"
            ]
          },
          "metadata": {},
          "execution_count": 24
        }
      ]
    },
    {
      "cell_type": "markdown",
      "source": [
        "## Exception Handling\n",
        "\n",
        "Code can generate many types of errors\n",
        "* division by 0\n",
        "* file not found\n",
        "* disk full while writing\n",
        "* list out of bounds\n",
        "\n",
        "Syntax error not handled as an exception"
      ],
      "metadata": {
        "id": "UIOPJXq0xr39"
      }
    },
    {
      "cell_type": "code",
      "source": [
        "#code goes like this\n",
        "try:\n",
        "  #enter code here that can go wrong\n",
        "  x,y = 2,3\n",
        "  z = x+y\n",
        "except IndexError:\n",
        "  #only for IndexError\n",
        "  z = 1\n",
        "except (NameError, KeyError):\n",
        "  #For multiple exception types same code\n",
        "  z = 1\n",
        "except:\n",
        "  #For any and all other errors\n",
        "  z = 1\n",
        "else:\n",
        "  #Execute this if code does execute\n",
        "  z = 1\n",
        "finally:\n",
        "  #Always execute this\n",
        "  z = 1"
      ],
      "metadata": {
        "id": "DNNmAhfDzHl8"
      },
      "execution_count": 2,
      "outputs": []
    },
    {
      "cell_type": "code",
      "source": [],
      "metadata": {
        "id": "-jwKPWVXzAYS"
      },
      "execution_count": null,
      "outputs": []
    }
  ]
}